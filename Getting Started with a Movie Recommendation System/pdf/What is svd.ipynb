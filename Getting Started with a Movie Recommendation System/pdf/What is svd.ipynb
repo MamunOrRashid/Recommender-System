{
 "cells": [
  {
   "cell_type": "markdown",
   "metadata": {},
   "source": [
    "`Book:` [Data-Driven Science and Engineering: Machine Learning, Dynamical Systems, and Control](http://databookuw.com/)"
   ]
  },
  {
   "cell_type": "markdown",
   "metadata": {},
   "source": [
    "[Dimensionality Reduction and Transforms](http://databookuw.com/page-2/page2.html)\n",
    "\n",
    "Many complex systems exhibit dominant low-dimensional patterns in the data, despite the rapidly increasing resolution of measurements and computations. `Pattern extraction is related to finding coordinate transforms that simplify the system`. Indeed, the rich history of mathematical physics is centered around coordinate transformations (e.g., spectral decompositions, the Fourier transform, generalized functions, etc.), although these techniques have largely been limited to simple idealized geometries and linear dynamics. The ability to derive data-driven transformations opens up opportunities to generalize these techniques to new research problems with more complex geometries and boundary conditions.\n",
    "\n",
    "This part of the book will investigate two of the most powerful and ubiquitous algorithms for transforming and reducing data: `the singular value decomposition (SVD)` and the `Fourier transform`. The fact that `data can be compressed in these transformed coordinate systems enables efficient sensing, and compact representations for modeling and control`. Thus, the third chapter involves sparse sampling approaches to exploit this low-dimensional structure."
   ]
  },
  {
   "cell_type": "markdown",
   "metadata": {},
   "source": [
    "##  Terms:\n",
    "[Orthogonal matrix](https://www.euclideanspace.com/maths/algebra/matrix/orthogonal/)\n",
    "\n",
    "[Unitary Matrix:](https://deepai.org/machine-learning-glossary-and-terms/unitary-matrix#:~:text=A%20complex%20conjugate%20of%20a,it%20is%20a%20unitary%20matrix.)\n",
    "\n",
    "\n",
    "matrices have that property okay so if I\n",
    "take any any vectors any pair of vectors\n",
    "and I map them through you or I map them\n",
    "through V their lengths and angles\n",
    "between them are preserved super duper\n",
    "simple and super powerful so the\n",
    "singular value decomposition\n",
    "\n",
    "\n",
    "A Unitary Matrix is a form of a complex square matrix in which its `conjugate transpose` is also its inverse.\n",
    "![Unitary Matrix](https://images.deepai.org/glossary-terms/unitary-matrix-5961158.jpg)\n",
    "how to make `conjugate transpose`\n",
    "![conjugate transpose](data:image/png;base64,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)"
   ]
  },
  {
   "cell_type": "markdown",
   "metadata": {},
   "source": [
    "[Rank one matrix:](https://ocw.mit.edu/courses/mathematics/18-06sc-linear-algebra-fall-2011/ax-b-and-the-four-subspaces/matrix-spaces-rank-1-small-world-graphs/MIT18_06SCF11_Ses1.11sum.pdf)\n",
    "`A matrix has rank 1` if its rows (or columns) are scalar multiples of each other."
   ]
  },
  {
   "cell_type": "markdown",
   "metadata": {},
   "source": [
    "`Column vector:`\n",
    "<img src=\"image/column_vector/1.png\" width=400 height=300>\n",
    "<img src=\"image/column_vector/2.png\" width=400 height=300>\n",
    "<img src=\"image/column_vector/3.png\" width=400 height=300>"
   ]
  },
  {
   "cell_type": "markdown",
   "metadata": {},
   "source": [
    "[Eigen Values and Eigen Vector](https://www.mathsisfun.com/algebra/eigenvalue.html)\n",
    "<img src=\"image/eigen/1.png\">"
   ]
  },
  {
   "cell_type": "markdown",
   "metadata": {},
   "source": [
    "`Eigenfaces` is a method that is useful for face recognition and detection by determining the variance of faces in a collection of face images and use those variances to encode and decode a face in a machine learning way without the full information reducing computation and space complexity.\n",
    "\n",
    "An eigenface  is the name given to a `set of eigenvectors` when used in the computer vision problem of human face recognition.\n",
    "\n",
    "The eigenvectors are derived from the `covariance matrix` of the probability distribution over the high-dimensional vector space of face images. The eigenfaces themselves form a basis set of all images used to construct the covariance matrix. This produces dimension reduction by allowing the smaller set of basis images to represent the original training images"
   ]
  },
  {
   "cell_type": "markdown",
   "metadata": {},
   "source": [
    "[svd_1](https://www.youtube.com/watch?v=nbBvuuNVfco&t=305s)"
   ]
  },
  {
   "cell_type": "markdown",
   "metadata": {},
   "source": [
    "# SVD"
   ]
  },
  {
   "cell_type": "markdown",
   "metadata": {},
   "source": [
    "<img src=\"image/svd/1.png\">\n",
    "<img src=\"image/svd/2.png\">\n",
    "<img src=\"image/svd/3.png\">\n",
    "<img src=\"image/svd/4.png\">\n",
    "<img src=\"image/svd/5.png\">\n",
    "<img src=\"image/svd/6.png\">\n",
    "<img src=\"image/svd/7.png\">\n",
    "<img src=\"image/svd/8.png\">\n",
    "\n",
    "<img src=\"image/svd/9.png\">\n",
    "<img src=\"image/svd/10.png\">\n",
    "<img src=\"image/svd/11.png\">\n",
    "<img src=\"image/svd/12.png\">\n",
    "<img src=\"image/svd/13.png\">\n"
   ]
  }
 ],
 "metadata": {
  "kernelspec": {
   "display_name": "Python 3",
   "language": "python",
   "name": "python3"
  },
  "language_info": {
   "codemirror_mode": {
    "name": "ipython",
    "version": 3
   },
   "file_extension": ".py",
   "mimetype": "text/x-python",
   "name": "python",
   "nbconvert_exporter": "python",
   "pygments_lexer": "ipython3",
   "version": "3.8.5"
  }
 },
 "nbformat": 4,
 "nbformat_minor": 4
}
